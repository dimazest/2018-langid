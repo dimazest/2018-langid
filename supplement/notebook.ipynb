{
 "cells": [
  {
   "cell_type": "code",
   "execution_count": 1,
   "metadata": {},
   "outputs": [],
   "source": [
    "%matplotlib inline"
   ]
  },
  {
   "cell_type": "code",
   "execution_count": 2,
   "metadata": {},
   "outputs": [],
   "source": [
    "%load_ext autoreload\n",
    "%autoreload 2"
   ]
  },
  {
   "cell_type": "code",
   "execution_count": 3,
   "metadata": {},
   "outputs": [],
   "source": [
    "from sklearn import metrics, model_selection, pipeline"
   ]
  },
  {
   "cell_type": "code",
   "execution_count": 4,
   "metadata": {},
   "outputs": [],
   "source": [
    "import util as u"
   ]
  },
  {
   "cell_type": "code",
   "execution_count": null,
   "metadata": {},
   "outputs": [],
   "source": []
  },
  {
   "cell_type": "code",
   "execution_count": 5,
   "metadata": {},
   "outputs": [],
   "source": [
    "pipe = pipeline.Pipeline(\n",
    "    [\n",
    "        ('cleanup', u.TweetCleanup()),\n",
    "        ('transformer', u.TweetTransformer()),\n",
    "        ('nn', u.TweetClassifier()),\n",
    "        ('label', u.TweetThresholdLabeller()),\n",
    "    ]\n",
    ")"
   ]
  },
  {
   "cell_type": "code",
   "execution_count": 6,
   "metadata": {},
   "outputs": [],
   "source": [
    "param_grid = {\n",
    "    'cleanup__keep_entities': [\n",
    "        True,\n",
    "#         False,\n",
    "    ],\n",
    "    \n",
    "    'transformer__case': [\n",
    "#         None,\n",
    "        'lowercase',\n",
    "    ],\n",
    "    'transformer__normal_form': [\n",
    "        None,\n",
    "#         'NFD',\n",
    "#         'NFC',\n",
    "    ],\n",
    "    \n",
    "    'nn__ngram_range': [\n",
    "#         (1, 2),\n",
    "        (2, 2),\n",
    "#         (1, 3),\n",
    "#         (3, 3),\n",
    "#         (4, 4),\n",
    "    ],\n",
    "#     'nn__min_df': [1, 10],\n",
    "#     'nn__max_df': [1.0, 0.9],\n",
    "#     'nn__optimizer': ['rmsprop', 'adam'],\n",
    "    'nn__activation': [\n",
    "#         'relu',\n",
    "        'sigmoid',\n",
    "    ],\n",
    "    'nn__epochs': [\n",
    "#         2,\n",
    "#         5,\n",
    "#         10,\n",
    "        20,\n",
    "#         30,\n",
    "    ],\n",
    "    'nn__batch_size': [\n",
    "        32,\n",
    "#         64,\n",
    "#         128,\n",
    "    ],\n",
    "    'nn__verbose': [0],\n",
    "}"
   ]
  },
  {
   "cell_type": "code",
   "execution_count": 7,
   "metadata": {},
   "outputs": [],
   "source": [
    "from sklearn.metrics import make_scorer\n",
    "\n",
    "def tweetlid_score(y, pred):\n",
    "    run = u.tweetlid_run(y, pred > 0)\n",
    "    return u.tweetlid_eval_f1(run)"
   ]
  },
  {
   "cell_type": "code",
   "execution_count": 8,
   "metadata": {},
   "outputs": [],
   "source": [
    "score = make_scorer(tweetlid_score, greater_is_better=True)"
   ]
  },
  {
   "cell_type": "code",
   "execution_count": 9,
   "metadata": {},
   "outputs": [],
   "source": [
    "grid = model_selection.GridSearchCV(\n",
    "    pipe, cv=3, param_grid=param_grid,\n",
    "    n_jobs=1,\n",
    "    verbose=1,\n",
    "    scoring=score,\n",
    ")"
   ]
  },
  {
   "cell_type": "code",
   "execution_count": null,
   "metadata": {},
   "outputs": [],
   "source": []
  },
  {
   "cell_type": "code",
   "execution_count": 10,
   "metadata": {},
   "outputs": [],
   "source": [
    "train, y_train = u.read_tweetlid_json('TweetLID_corpusV2/tweetlid-training-tweets.json')"
   ]
  },
  {
   "cell_type": "code",
   "execution_count": 11,
   "metadata": {},
   "outputs": [
    {
     "name": "stdout",
     "output_type": "stream",
     "text": [
      "Fitting 3 folds for each of 1 candidates, totalling 3 fits\n"
     ]
    },
    {
     "name": "stderr",
     "output_type": "stream",
     "text": [
      "Using Theano backend.\n",
      "[Parallel(n_jobs=1)]: Done   3 out of   3 | elapsed:  1.2min finished\n"
     ]
    }
   ],
   "source": [
    "grid.fit(train, y_train);"
   ]
  },
  {
   "cell_type": "code",
   "execution_count": null,
   "metadata": {},
   "outputs": [],
   "source": []
  },
  {
   "cell_type": "code",
   "execution_count": null,
   "metadata": {},
   "outputs": [],
   "source": []
  },
  {
   "cell_type": "code",
   "execution_count": null,
   "metadata": {},
   "outputs": [],
   "source": []
  },
  {
   "cell_type": "code",
   "execution_count": null,
   "metadata": {},
   "outputs": [],
   "source": []
  },
  {
   "cell_type": "code",
   "execution_count": null,
   "metadata": {},
   "outputs": [],
   "source": []
  },
  {
   "cell_type": "code",
   "execution_count": null,
   "metadata": {},
   "outputs": [],
   "source": []
  },
  {
   "cell_type": "code",
   "execution_count": null,
   "metadata": {},
   "outputs": [],
   "source": []
  },
  {
   "cell_type": "code",
   "execution_count": 12,
   "metadata": {},
   "outputs": [],
   "source": [
    "runs = u.runs_frame(grid)"
   ]
  },
  {
   "cell_type": "code",
   "execution_count": 13,
   "metadata": {},
   "outputs": [],
   "source": [
    "runs.to_csv('runs.csv', index=False)"
   ]
  },
  {
   "cell_type": "code",
   "execution_count": null,
   "metadata": {},
   "outputs": [],
   "source": []
  },
  {
   "cell_type": "code",
   "execution_count": 14,
   "metadata": {},
   "outputs": [
    {
     "data": {
      "text/plain": [
       "{'cleanup__keep_entities': True,\n",
       " 'nn__activation': 'sigmoid',\n",
       " 'nn__batch_size': 32,\n",
       " 'nn__epochs': 20,\n",
       " 'nn__ngram_range': (2, 2),\n",
       " 'nn__verbose': 0,\n",
       " 'transformer__case': 'lowercase',\n",
       " 'transformer__normal_form': None}"
      ]
     },
     "execution_count": 14,
     "metadata": {},
     "output_type": "execute_result"
    }
   ],
   "source": [
    "grid.best_params_"
   ]
  },
  {
   "cell_type": "code",
   "execution_count": null,
   "metadata": {},
   "outputs": [],
   "source": []
  },
  {
   "cell_type": "code",
   "execution_count": 15,
   "metadata": {},
   "outputs": [],
   "source": [
    "test, y_test = u.read_tweetlid_json(\n",
    "    'TweetLID_corpusV2/tweetlid-test-tweets.json',\n",
    ")"
   ]
  },
  {
   "cell_type": "code",
   "execution_count": null,
   "metadata": {},
   "outputs": [],
   "source": []
  },
  {
   "cell_type": "code",
   "execution_count": null,
   "metadata": {},
   "outputs": [],
   "source": []
  },
  {
   "cell_type": "code",
   "execution_count": 16,
   "metadata": {},
   "outputs": [],
   "source": [
    "pred_test = grid.predict_proba(test)"
   ]
  },
  {
   "cell_type": "code",
   "execution_count": null,
   "metadata": {},
   "outputs": [],
   "source": []
  },
  {
   "cell_type": "code",
   "execution_count": 17,
   "metadata": {},
   "outputs": [],
   "source": [
    "tweetlid_run = u.tweetlid_run(\n",
    "    y_test,\n",
    "    pred_test > 0,\n",
    ")\n",
    "tweetlid_run.to_csv('run_output.tsv', sep='\\t')"
   ]
  },
  {
   "cell_type": "code",
   "execution_count": null,
   "metadata": {},
   "outputs": [],
   "source": []
  },
  {
   "cell_type": "code",
   "execution_count": null,
   "metadata": {},
   "outputs": [],
   "source": []
  },
  {
   "cell_type": "code",
   "execution_count": null,
   "metadata": {},
   "outputs": [],
   "source": []
  },
  {
   "cell_type": "code",
   "execution_count": null,
   "metadata": {},
   "outputs": [],
   "source": []
  },
  {
   "cell_type": "code",
   "execution_count": 18,
   "metadata": {},
   "outputs": [
    {
     "name": "stdout",
     "output_type": "stream",
     "text": [
      "\n",
      " RESULTS ONLY taking into account SUBMITTED RESULTS IN THE REFERENCE: \n",
      "Category amb : P => 1 , R => 0.919230769230769 , F => 0.957915831663327 \n",
      "Category en : P => 0.653817082388511 , R => 0.789954337899543 , F => 0.715467328370554 \n",
      "Category ca : P => 0.723772321428571 , R => 0.852728468113083 , F => 0.782976154542711 \n",
      "Category pt : P => 0.837176470588235 , R => 0.902587519025875 , F => 0.86865234375 \n",
      "Category gl : P => 0.380305602716469 , R => 0.517321016166282 , F => 0.438356164383562 \n",
      "Category es : P => 0.892631902784187 , R => 0.9588565763384 , F => 0.92455986616745 \n",
      "Category und : P => 0.606382978723404 , R => 0.120762711864407 , F => 0.201413427561837 \n",
      "Category eu : P => 0.792873051224944 , R => 0.773913043478261 , F => 0.783278327832783 \n",
      "\n",
      "Global results : P => 0.73586992623179 , R => 0.729419305264578 , F => 0.709077430534028 \n",
      "\n",
      "Submitted run contains => 19993 tweets. From those 18423 are in the reference. \n",
      "Provided reference has => 18423 tweets. From those 0 tweets were left unanswered. \n",
      "\n",
      " RESULTS taking into account ALL TWEETS in the reference (unanswered tweets affect Recall and Fscore negatively) \n",
      "Category amb : P => 1 , R => 0.919230769230769 , F => 0.957915831663327 \n",
      "Category en : P => 0.653817082388511 , R => 0.789954337899543 , F => 0.715467328370554 \n",
      "Category ca : P => 0.723772321428571 , R => 0.852728468113083 , F => 0.782976154542711 \n",
      "Category pt : P => 0.837176470588235 , R => 0.902587519025875 , F => 0.86865234375 \n",
      "Category gl : P => 0.380305602716469 , R => 0.517321016166282 , F => 0.438356164383562 \n",
      "Category es : P => 0.892631902784187 , R => 0.9588565763384 , F => 0.92455986616745 \n",
      "Category und : P => 0.606382978723404 , R => 0.120762711864407 , F => 0.201413427561837 \n",
      "Category eu : P => 0.792873051224944 , R => 0.773913043478261 , F => 0.783278327832783 \n",
      "\n",
      "Global results : P => 0.73586992623179 , R => 0.729419305264578 , F => 0.709077430534028 \n"
     ]
    }
   ],
   "source": [
    "!perl TweetLID_corpusV2/tweetLID_eval.pl \\\n",
    "-r TweetLID_corpusV2/tweetLID-testOfficial-7july.tsv \\\n",
    "-d run_output.tsv \\\n",
    "2> /dev/null"
   ]
  },
  {
   "cell_type": "code",
   "execution_count": 19,
   "metadata": {},
   "outputs": [
    {
     "name": "stdout",
     "output_type": "stream",
     "text": [
      "\n",
      " RESULTS ONLY taking into account SUBMITTED RESULTS IN THE REFERENCE: \n",
      "Category pt : P => 0.83790628957366 , R => 0.901862789641072 , F => 0.86870897155361 \n",
      "Category gl : P => 0.3824 , R => 0.512875536480687 , F => 0.438130155820348 \n",
      "Category es : P => 0.892831945816283 , R => 0.960094074804643 , F => 0.925242186072016 \n",
      "Category ca : P => 0.718234981392876 , R => 0.854522454142947 , F => 0.780473714615829 \n",
      "Category en : P => 0.654532476802284 , R => 0.787124463519313 , F => 0.71473109898675 \n",
      "Category eu : P => 0.787685774946921 , R => 0.771309771309771 , F => 0.779411764705882 \n",
      "Category und : P => 0.608040201005025 , R => 0.11839530332681 , F => 0.198198198198198 \n",
      "Category amb : P => 1 , R => 0.903225806451613 , F => 0.949152542372881 \n",
      "Category ind : P =>  , R => 0 , F => 0 \n",
      "\n",
      "Global results : P => 0.653514629948561 , R => 0.645490022186318 , F => 0.628227625813946 \n",
      "\n",
      "Submitted run contains => 19993 tweets. From those 19993 are in the reference. \n",
      "Provided reference has => 19993 tweets. From those 0 tweets were left unanswered. \n",
      "\n",
      " RESULTS taking into account ALL TWEETS in the reference (unanswered tweets affect Recall and Fscore negatively) \n",
      "Category pt : P => 0.83790628957366 , R => 0.901862789641072 , F => 0.86870897155361 \n",
      "Category gl : P => 0.3824 , R => 0.512875536480687 , F => 0.438130155820348 \n",
      "Category es : P => 0.892831945816283 , R => 0.960094074804643 , F => 0.925242186072016 \n",
      "Category ca : P => 0.718234981392876 , R => 0.854522454142947 , F => 0.780473714615829 \n",
      "Category en : P => 0.654532476802284 , R => 0.787124463519313 , F => 0.71473109898675 \n",
      "Category eu : P => 0.787685774946921 , R => 0.771309771309771 , F => 0.779411764705882 \n",
      "Category und : P => 0.608040201005025 , R => 0.11839530332681 , F => 0.198198198198198 \n",
      "Category amb : P => 1 , R => 0.903225806451613 , F => 0.949152542372881 \n",
      "Category ind : P =>  , R => 0 , F => 0 \n",
      "\n",
      "Global results : P => 0.653514629948561 , R => 0.645490022186317 , F => 0.628227625813946 \n"
     ]
    }
   ],
   "source": [
    "!perl TweetLID_corpusV2/tweetLID_eval.pl \\\n",
    "-r TweetLID_corpusV2/tweetlid-test-tweets.tsv \\\n",
    "-d run_output.tsv \\\n",
    "2> /dev/null"
   ]
  },
  {
   "cell_type": "code",
   "execution_count": null,
   "metadata": {},
   "outputs": [],
   "source": []
  },
  {
   "cell_type": "code",
   "execution_count": null,
   "metadata": {},
   "outputs": [],
   "source": []
  },
  {
   "cell_type": "code",
   "execution_count": null,
   "metadata": {},
   "outputs": [],
   "source": []
  },
  {
   "cell_type": "code",
   "execution_count": null,
   "metadata": {},
   "outputs": [],
   "source": []
  },
  {
   "cell_type": "code",
   "execution_count": null,
   "metadata": {},
   "outputs": [],
   "source": []
  },
  {
   "cell_type": "code",
   "execution_count": null,
   "metadata": {},
   "outputs": [],
   "source": []
  },
  {
   "cell_type": "code",
   "execution_count": null,
   "metadata": {},
   "outputs": [],
   "source": []
  },
  {
   "cell_type": "code",
   "execution_count": null,
   "metadata": {},
   "outputs": [],
   "source": []
  },
  {
   "cell_type": "code",
   "execution_count": null,
   "metadata": {},
   "outputs": [],
   "source": []
  },
  {
   "cell_type": "code",
   "execution_count": null,
   "metadata": {},
   "outputs": [],
   "source": []
  },
  {
   "cell_type": "code",
   "execution_count": null,
   "metadata": {},
   "outputs": [],
   "source": []
  },
  {
   "cell_type": "code",
   "execution_count": null,
   "metadata": {},
   "outputs": [],
   "source": []
  }
 ],
 "metadata": {
  "kernelspec": {
   "display_name": "Python 3",
   "language": "python",
   "name": "python3"
  },
  "language_info": {
   "codemirror_mode": {
    "name": "ipython",
    "version": 3
   },
   "file_extension": ".py",
   "mimetype": "text/x-python",
   "name": "python",
   "nbconvert_exporter": "python",
   "pygments_lexer": "ipython3",
   "version": "3.6.5"
  }
 },
 "nbformat": 4,
 "nbformat_minor": 2
}
