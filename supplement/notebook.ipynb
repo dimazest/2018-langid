{
 "cells": [
  {
   "cell_type": "code",
   "execution_count": 1,
   "metadata": {},
   "outputs": [],
   "source": [
    "%matplotlib inline"
   ]
  },
  {
   "cell_type": "code",
   "execution_count": 2,
   "metadata": {},
   "outputs": [],
   "source": [
    "import json\n",
    "import re\n",
    "import unicodedata\n",
    "import itertools\n",
    "import collections"
   ]
  },
  {
   "cell_type": "code",
   "execution_count": 3,
   "metadata": {},
   "outputs": [],
   "source": [
    "import pandas as pd\n",
    "import seaborn as sns\n",
    "import numpy as np"
   ]
  },
  {
   "cell_type": "code",
   "execution_count": 4,
   "metadata": {},
   "outputs": [],
   "source": [
    "from sklearn import metrics, model_selection, pipeline\n",
    "from sklearn.feature_extraction.text import CountVectorizer\n",
    "from sklearn.base import BaseEstimator, ClassifierMixin, TransformerMixin"
   ]
  },
  {
   "cell_type": "code",
   "execution_count": 5,
   "metadata": {},
   "outputs": [],
   "source": [
    "def text_without_entities(tweet_json):\n",
    "    entities = tweet_json['entities'].values()\n",
    "    indicies = list(itertools.chain.from_iterable((e['indices'] for e in es) for es in entities))\n",
    "\n",
    "    text = list(tweet_json['text'])\n",
    "    for start, end in indicies:\n",
    "        length = end - start\n",
    "        text[start:end] = [None] * length\n",
    "\n",
    "    return ''.join(filter(None, text))"
   ]
  },
  {
   "cell_type": "code",
   "execution_count": 6,
   "metadata": {},
   "outputs": [],
   "source": [
    "def read_tweetlid_json(f_name):\n",
    "    labels = ['ca', 'en', 'es', 'eu', 'gl', 'pt', 'und', 'other']\n",
    "    with open(f_name) as f:\n",
    "        data = map(json.loads, f)\n",
    "        data = [\n",
    "            {\n",
    "                'id': t['id'],\n",
    "                'text': t['text'],\n",
    "                'text_without_entities': text_without_entities(t),\n",
    "                'tweetlid_lang': t['tweetlid_lang'],\n",
    "                **{\n",
    "                    lang: 0 for lang in labels\n",
    "                },\n",
    "                **{\n",
    "                    lang: 1 #/ len(re.split('[/]|[+]', t['tweetlid_lang']))\n",
    "                    for lang in re.split('[/]|[+]', t['tweetlid_lang'])\n",
    "                }\n",
    "            }\n",
    "            for t in data\n",
    "        ]\n",
    "\n",
    "    data = pd.DataFrame.from_records(data, index='id')\n",
    "\n",
    "    return data[['text', 'text_without_entities']], data[labels]"
   ]
  },
  {
   "cell_type": "code",
   "execution_count": 7,
   "metadata": {},
   "outputs": [],
   "source": [
    "class TweetCleanup(BaseEstimator, TransformerMixin):\n",
    "    def __init__(self, keep_entities=True):\n",
    "        self.keep_entities = keep_entities\n",
    "\n",
    "    def fit(self, X, y=None):\n",
    "        return self\n",
    "    \n",
    "    def transform(self, X):\n",
    "        if self.keep_entities:\n",
    "            return X['text'].values\n",
    "        else:\n",
    "            return X['text_without_entities'].values"
   ]
  },
  {
   "cell_type": "code",
   "execution_count": 8,
   "metadata": {},
   "outputs": [],
   "source": [
    "class TweetTransformer(BaseEstimator, TransformerMixin):\n",
    "    def __init__(self, case=None,normal_form=None):\n",
    "        self.case = case\n",
    "        self.normal_form = normal_form\n",
    "\n",
    "    def fit(self, X, y=None):\n",
    "        return self\n",
    "        \n",
    "    def transform(self, X):\n",
    "        if self.case == 'lowercase':\n",
    "            X = map(str.lower, X)\n",
    "        \n",
    "        if self.normal_form is not None:\n",
    "            X = map(lambda text: unicodedata.normalize(self.normal_form, text), X)\n",
    "            \n",
    "        return list(X)"
   ]
  },
  {
   "cell_type": "code",
   "execution_count": 9,
   "metadata": {},
   "outputs": [],
   "source": [
    "class TweetClassifier(BaseEstimator, TransformerMixin, ClassifierMixin):\n",
    "    def __init__(\n",
    "        self,\n",
    "        analyzer='char', ngram_range=(2, 2), min_df=1, max_df=1.0,\n",
    "        optimizer='rmsprop', activation='relu', epochs=20, batch_size=32,\n",
    "        verbose=0,\n",
    "    ):\n",
    "        self.analyzer = analyzer\n",
    "        self.ngram_range = ngram_range\n",
    "        self.min_df = min_df\n",
    "        self.max_df = max_df\n",
    "\n",
    "        self.vect = CountVectorizer(\n",
    "            analyzer=analyzer,\n",
    "            ngram_range=ngram_range,\n",
    "            lowercase=False,\n",
    "            min_df=min_df,\n",
    "            max_df=max_df,\n",
    "        )\n",
    "        \n",
    "        self.optimizer = optimizer\n",
    "        self.activation = activation\n",
    "        self.epochs = epochs\n",
    "        self.batch_size = batch_size\n",
    "        self.verbose = verbose\n",
    "        \n",
    "    def fit(self, X, y=None):\n",
    "        from keras.wrappers.scikit_learn import KerasClassifier\n",
    "\n",
    "        X = self.vect.fit_transform(X)\n",
    "        \n",
    "        self.input_dim = X.shape[1]\n",
    "        self.classifier = KerasClassifier(self.create_model)\n",
    "        \n",
    "        self.classifier.fit(\n",
    "            X, y,\n",
    "            epochs=self.epochs, batch_size=self.batch_size,\n",
    "            verbose=self.verbose,\n",
    "        )\n",
    "        \n",
    "        return self\n",
    "        \n",
    "    def transform(self, X):\n",
    "        return self.classifier.transform(self.vect.transform(X))\n",
    "    \n",
    "    def predict(self, X):\n",
    "        return self.classifier.predict(self.vect.transform(X))\n",
    "\n",
    "    def predict_proba(self, X):\n",
    "        return self.classifier.predict_proba(self.vect.transform(X))\n",
    "\n",
    "    def create_model(self):\n",
    "        import tensorflow as tf\n",
    "        from keras.backend.tensorflow_backend import set_session\n",
    "\n",
    "        config = tf.ConfigProto()\n",
    "        config.gpu_options.per_process_gpu_memory_fraction = 0.05\n",
    "        set_session(tf.Session(config=config))\n",
    "        \n",
    "        from keras.models import Sequential\n",
    "        from keras.layers import Dense, Activation\n",
    "        from keras.utils import multi_gpu_model\n",
    "        \n",
    "        from random import randrange\n",
    "        \n",
    "        with tf.device('/device:GPU:{}'.format(randrange(4))):\n",
    "        \n",
    "            model = Sequential()\n",
    "            model.add(Dense(32, input_dim=self.input_dim))\n",
    "            model.add(Activation(self.activation))\n",
    "            model.add(Dense(8))\n",
    "            model.add(Activation('softmax'))\n",
    "\n",
    "#             model = multi_gpu_model(model, gpus=4, cpu_merge=True, cpu_relocation=False)\n",
    "\n",
    "            model.compile(\n",
    "                optimizer=self.optimizer,\n",
    "                loss='categorical_crossentropy',\n",
    "                metrics=['accuracy'],\n",
    "            )\n",
    "\n",
    "        return model"
   ]
  },
  {
   "cell_type": "code",
   "execution_count": 10,
   "metadata": {},
   "outputs": [],
   "source": [
    "pipe = pipeline.Pipeline(\n",
    "    [\n",
    "        ('cleanup', TweetCleanup()),\n",
    "        ('transformer', TweetTransformer()),\n",
    "        ('nn', TweetClassifier()),\n",
    "    ]\n",
    ")"
   ]
  },
  {
   "cell_type": "code",
   "execution_count": 11,
   "metadata": {},
   "outputs": [],
   "source": [
    "param_grid = {\n",
    "    'cleanup__keep_entities': [\n",
    "        True,\n",
    "        False,\n",
    "    ],\n",
    "    \n",
    "    'transformer__case': [None, 'lowercase',],\n",
    "    'transformer__normal_form': [\n",
    "        None,\n",
    "        'NFD',\n",
    "#         'NFC',\n",
    "    ],\n",
    "    \n",
    "    'nn__ngram_range': [\n",
    "        (1, 2),\n",
    "        (2, 2),\n",
    "        (1, 3),\n",
    "        (3, 3),\n",
    "#         (4, 4),\n",
    "    ],\n",
    "#     'nn__min_df': [1, 10],\n",
    "#     'nn__max_df': [1.0, 0.9],\n",
    "#     'nn__optimizer': ['rmsprop', 'adam'],\n",
    "    'nn__activation': [\n",
    "        'relu',\n",
    "        'sigmoid',\n",
    "    ],\n",
    "    'nn__epochs': [\n",
    "#         2,\n",
    "#         5,\n",
    "#         10,\n",
    "#         20,\n",
    "        30,\n",
    "    ],\n",
    "    'nn__batch_size': [\n",
    "        32,\n",
    "#         64,\n",
    "#         128,\n",
    "    ],\n",
    "    'nn__verbose': [0],\n",
    "}"
   ]
  },
  {
   "cell_type": "code",
   "execution_count": 12,
   "metadata": {},
   "outputs": [],
   "source": [
    "train, y_train = read_tweetlid_json('TweetLID_corpusV2/tweetlid-training-tweets.json')"
   ]
  },
  {
   "cell_type": "code",
   "execution_count": 13,
   "metadata": {},
   "outputs": [],
   "source": [
    "grid = model_selection.GridSearchCV(\n",
    "    pipe, cv=3, param_grid=param_grid,\n",
    "    scoring='accuracy',\n",
    "    n_jobs=4,\n",
    "    verbose=1,\n",
    ")"
   ]
  },
  {
   "cell_type": "code",
   "execution_count": null,
   "metadata": {},
   "outputs": [
    {
     "name": "stdout",
     "output_type": "stream",
     "text": [
      "Fitting 3 folds for each of 64 candidates, totalling 192 fits\n"
     ]
    },
    {
     "name": "stderr",
     "output_type": "stream",
     "text": [
      "Using TensorFlow backend.\n",
      "Using TensorFlow backend.\n",
      "Using TensorFlow backend.\n",
      "Using TensorFlow backend.\n",
      "[Parallel(n_jobs=4)]: Done  42 tasks      | elapsed:  7.2min\n"
     ]
    }
   ],
   "source": [
    "grid.fit(train, y_train.values.argmax(axis=1));"
   ]
  },
  {
   "cell_type": "code",
   "execution_count": null,
   "metadata": {},
   "outputs": [],
   "source": [
    "_keys = [k for k in grid.cv_results_.keys() if k.startswith('param_') or k == 'mean_test_score']\n",
    "runs = pd.DataFrame(\n",
    "    {k: grid.cv_results_[k] for k in _keys},\n",
    "#     \n",
    ")\n",
    "\n",
    "runs.columns =[k_[len('param_'):] if k_.startswith('param_') else k_ for k_ in _keys]\n",
    "runs"
   ]
  },
  {
   "cell_type": "code",
   "execution_count": null,
   "metadata": {},
   "outputs": [],
   "source": [
    "runs.to_csv('runs.csv', index=False)"
   ]
  },
  {
   "cell_type": "code",
   "execution_count": 24,
   "metadata": {},
   "outputs": [
    {
     "data": {
      "text/plain": [
       "{'cleanup__keep_entities': False,\n",
       " 'nn__activation': 'sigmoid',\n",
       " 'nn__batch_size': 32,\n",
       " 'nn__epochs': 30,\n",
       " 'nn__ngram_range': (2, 2),\n",
       " 'nn__verbose': 0,\n",
       " 'transformer__case': 'lowercase',\n",
       " 'transformer__normal_form': None}"
      ]
     },
     "execution_count": 24,
     "metadata": {},
     "output_type": "execute_result"
    }
   ],
   "source": [
    "grid.best_params_"
   ]
  },
  {
   "cell_type": "code",
   "execution_count": null,
   "metadata": {},
   "outputs": [],
   "source": []
  },
  {
   "cell_type": "code",
   "execution_count": 25,
   "metadata": {},
   "outputs": [],
   "source": [
    "test, y_test = read_tweetlid_json('TweetLID_corpusV2/tweetlid-test-tweets.json')"
   ]
  },
  {
   "cell_type": "code",
   "execution_count": 26,
   "metadata": {},
   "outputs": [],
   "source": [
    "y_test_estimate = grid.best_estimator_.predict_proba(test) > 0.3"
   ]
  },
  {
   "cell_type": "code",
   "execution_count": 27,
   "metadata": {},
   "outputs": [],
   "source": [
    "run = pd.DataFrame(y_test_estimate, index=test.index, columns=y_test.columns)\n",
    "run_output = run.apply(lambda r: '+'.join(r.index[r]), axis='columns')\n",
    "run_output.to_csv('run_output.tsv', sep='\\t')"
   ]
  },
  {
   "cell_type": "code",
   "execution_count": null,
   "metadata": {},
   "outputs": [],
   "source": []
  },
  {
   "cell_type": "code",
   "execution_count": 29,
   "metadata": {},
   "outputs": [
    {
     "name": "stdout",
     "output_type": "stream",
     "text": [
      "\n",
      " RESULTS ONLY taking into account SUBMITTED RESULTS IN THE REFERENCE: \n",
      "Category und : P => 0.638297872340426 , R => 0.190677966101695 , F => 0.293637846655791 \n",
      "Category es : P => 0.905294439665285 , R => 0.956378056840714 , F => 0.930135390301715 \n",
      "Category gl : P => 0.410301953818828 , R => 0.533487297921478 , F => 0.463855421686747 \n",
      "Category pt : P => 0.814932126696833 , R => 0.914213197969543 , F => 0.861722488038278 \n",
      "Category eu : P => 0.847715736040609 , R => 0.726086956521739 , F => 0.782201405152225 \n",
      "Category amb : P => 1 , R => 0.915384615384615 , F => 0.955823293172691 \n",
      "Category en : P => 0.729218106995885 , R => 0.809872029250457 , F => 0.767431788653097 \n",
      "Category ca : P => 0.699791883454735 , R => 0.884286653517423 , F => 0.78129538193436 \n",
      "\n",
      "Global results : P => 0.755694014876575 , R => 0.741298346688458 , F => 0.729512876949363 \n",
      "\n",
      "Submitted run contains => 19993 tweets. From those 18423 are in the reference. \n",
      "Provided reference has => 18423 tweets. From those 0 tweets were left unanswered. \n",
      "\n",
      " RESULTS taking into account ALL TWEETS in the reference (unanswered tweets affect Recall and Fscore negatively) \n",
      "Category und : P => 0.638297872340426 , R => 0.190677966101695 , F => 0.293637846655791 \n",
      "Category es : P => 0.905294439665285 , R => 0.956378056840714 , F => 0.930135390301715 \n",
      "Category gl : P => 0.410301953818828 , R => 0.533487297921478 , F => 0.463855421686747 \n",
      "Category pt : P => 0.814932126696833 , R => 0.914213197969543 , F => 0.861722488038278 \n",
      "Category eu : P => 0.847715736040609 , R => 0.726086956521739 , F => 0.782201405152225 \n",
      "Category amb : P => 1 , R => 0.915384615384615 , F => 0.955823293172691 \n",
      "Category en : P => 0.729218106995885 , R => 0.809872029250457 , F => 0.767431788653097 \n",
      "Category ca : P => 0.699791883454735 , R => 0.884286653517423 , F => 0.78129538193436 \n",
      "\n",
      "Global results : P => 0.755694014876575 , R => 0.741298346688458 , F => 0.729512876949363 \n"
     ]
    }
   ],
   "source": [
    "!perl TweetLID_corpusV2/tweetLID_eval.pl \\\n",
    "-r TweetLID_corpusV2/tweetLID-testOfficial-7july.tsv \\\n",
    "-d run_output.tsv \\\n",
    "2> /dev/null"
   ]
  },
  {
   "cell_type": "code",
   "execution_count": 30,
   "metadata": {},
   "outputs": [
    {
     "name": "stdout",
     "output_type": "stream",
     "text": [
      "\n",
      " RESULTS ONLY taking into account SUBMITTED RESULTS IN THE REFERENCE: \n",
      "Category en : P => 0.72911787665886 , R => 0.802405498281787 , F => 0.7640081799591 \n",
      "Category ca : P => 0.691510365251727 , R => 0.886148007590133 , F => 0.776822844469088 \n",
      "Category pt : P => 0.816517493897478 , R => 0.912272727272727 , F => 0.861743237440962 \n",
      "Category es : P => 0.906317300789663 , R => 0.957818071466505 , F => 0.931356276050312 \n",
      "Category amb : P => 1 , R => 0.910394265232975 , F => 0.953095684803002 \n",
      "Category ind : P =>  , R => 0 , F => 0 \n",
      "Category und : P => 0.636963696369637 , R => 0.188845401174168 , F => 0.291320754716981 \n",
      "Category gl : P => 0.40625 , R => 0.530042918454936 , F => 0.459962756052142 \n",
      "Category eu : P => 0.845036319612591 , R => 0.725571725571726 , F => 0.78076062639821 \n",
      "\n",
      "Global results : P => 0.670190339175551 , R => 0.657055401671662 , F => 0.646563373321089 \n",
      "\n",
      "Submitted run contains => 19993 tweets. From those 19993 are in the reference. \n",
      "Provided reference has => 19993 tweets. From those 0 tweets were left unanswered. \n",
      "\n",
      " RESULTS taking into account ALL TWEETS in the reference (unanswered tweets affect Recall and Fscore negatively) \n",
      "Category en : P => 0.72911787665886 , R => 0.802405498281787 , F => 0.7640081799591 \n",
      "Category ca : P => 0.691510365251727 , R => 0.886148007590133 , F => 0.776822844469088 \n",
      "Category pt : P => 0.816517493897478 , R => 0.912272727272727 , F => 0.861743237440962 \n",
      "Category es : P => 0.906317300789663 , R => 0.957818071466505 , F => 0.931356276050312 \n",
      "Category amb : P => 1 , R => 0.910394265232975 , F => 0.953095684803002 \n",
      "Category ind : P =>  , R => 0 , F => 0 \n",
      "Category und : P => 0.636963696369637 , R => 0.188845401174168 , F => 0.291320754716981 \n",
      "Category gl : P => 0.40625 , R => 0.530042918454936 , F => 0.459962756052142 \n",
      "Category eu : P => 0.845036319612591 , R => 0.725571725571726 , F => 0.78076062639821 \n",
      "\n",
      "Global results : P => 0.670190339175551 , R => 0.657055401671662 , F => 0.646563373321089 \n"
     ]
    }
   ],
   "source": [
    "!perl TweetLID_corpusV2/tweetLID_eval.pl \\\n",
    "-r TweetLID_corpusV2/tweetlid-test-tweets.tsv \\\n",
    "-d run_output.tsv \\\n",
    "2> /dev/null"
   ]
  },
  {
   "cell_type": "code",
   "execution_count": null,
   "metadata": {},
   "outputs": [],
   "source": []
  },
  {
   "cell_type": "code",
   "execution_count": null,
   "metadata": {},
   "outputs": [],
   "source": []
  },
  {
   "cell_type": "code",
   "execution_count": null,
   "metadata": {},
   "outputs": [],
   "source": []
  },
  {
   "cell_type": "code",
   "execution_count": null,
   "metadata": {},
   "outputs": [],
   "source": []
  },
  {
   "cell_type": "code",
   "execution_count": null,
   "metadata": {},
   "outputs": [],
   "source": []
  },
  {
   "cell_type": "code",
   "execution_count": null,
   "metadata": {},
   "outputs": [],
   "source": []
  },
  {
   "cell_type": "code",
   "execution_count": null,
   "metadata": {},
   "outputs": [],
   "source": []
  },
  {
   "cell_type": "code",
   "execution_count": null,
   "metadata": {},
   "outputs": [],
   "source": []
  },
  {
   "cell_type": "code",
   "execution_count": null,
   "metadata": {},
   "outputs": [],
   "source": []
  },
  {
   "cell_type": "code",
   "execution_count": null,
   "metadata": {},
   "outputs": [],
   "source": []
  },
  {
   "cell_type": "code",
   "execution_count": null,
   "metadata": {},
   "outputs": [],
   "source": []
  },
  {
   "cell_type": "code",
   "execution_count": null,
   "metadata": {},
   "outputs": [],
   "source": []
  },
  {
   "cell_type": "code",
   "execution_count": null,
   "metadata": {},
   "outputs": [],
   "source": []
  },
  {
   "cell_type": "code",
   "execution_count": null,
   "metadata": {},
   "outputs": [],
   "source": []
  },
  {
   "cell_type": "code",
   "execution_count": null,
   "metadata": {},
   "outputs": [],
   "source": []
  },
  {
   "cell_type": "code",
   "execution_count": null,
   "metadata": {},
   "outputs": [],
   "source": []
  },
  {
   "cell_type": "code",
   "execution_count": null,
   "metadata": {},
   "outputs": [],
   "source": []
  }
 ],
 "metadata": {
  "kernelspec": {
   "display_name": "Python 3",
   "language": "python",
   "name": "python3"
  },
  "language_info": {
   "codemirror_mode": {
    "name": "ipython",
    "version": 3
   },
   "file_extension": ".py",
   "mimetype": "text/x-python",
   "name": "python",
   "nbconvert_exporter": "python",
   "pygments_lexer": "ipython3",
   "version": "3.6.6"
  }
 },
 "nbformat": 4,
 "nbformat_minor": 2
}
