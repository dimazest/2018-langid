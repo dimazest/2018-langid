{
 "cells": [
  {
   "cell_type": "code",
   "execution_count": 1,
   "metadata": {},
   "outputs": [],
   "source": [
    "%matplotlib inline"
   ]
  },
  {
   "cell_type": "code",
   "execution_count": 2,
   "metadata": {},
   "outputs": [],
   "source": [
    "import json\n",
    "import re\n",
    "import unicodedata\n",
    "import itertools\n",
    "import collections"
   ]
  },
  {
   "cell_type": "code",
   "execution_count": 3,
   "metadata": {},
   "outputs": [],
   "source": [
    "import pandas as pd\n",
    "import seaborn as sns\n",
    "import numpy as np"
   ]
  },
  {
   "cell_type": "code",
   "execution_count": 4,
   "metadata": {},
   "outputs": [
    {
     "name": "stderr",
     "output_type": "stream",
     "text": [
      "Using Theano backend.\n"
     ]
    }
   ],
   "source": [
    "from keras.models import Sequential\n",
    "from keras.layers import Dense, Activation\n",
    "from keras.wrappers.scikit_learn import KerasClassifier\n",
    "\n",
    "from sklearn import metrics, model_selection, pipeline\n",
    "\n",
    "from sklearn.feature_extraction.text import CountVectorizer\n",
    "from sklearn.base import BaseEstimator, ClassifierMixin, TransformerMixin"
   ]
  },
  {
   "cell_type": "code",
   "execution_count": 5,
   "metadata": {},
   "outputs": [],
   "source": [
    "def text_without_entities(tweet_json):\n",
    "    entities = tweet_json['entities'].values()\n",
    "    indicies = list(itertools.chain.from_iterable((e['indices'] for e in es) for es in entities))\n",
    "\n",
    "    text = list(tweet_json['text'])\n",
    "    for start, end in indicies:\n",
    "        length = end - start\n",
    "        text[start:end] = [None] * length\n",
    "\n",
    "    return ''.join(filter(None, text))"
   ]
  },
  {
   "cell_type": "code",
   "execution_count": 6,
   "metadata": {},
   "outputs": [],
   "source": [
    "def read_tweetlid_json(f_name):\n",
    "    labels = ['ca', 'en', 'es', 'eu', 'gl', 'pt', 'und', 'other']\n",
    "    with open(f_name) as f:\n",
    "        data = map(json.loads, f)\n",
    "        data = [\n",
    "            {\n",
    "                'id': t['id'],\n",
    "                'text': t['text'],\n",
    "                'text_without_entities': text_without_entities(t),\n",
    "                'tweetlid_lang': t['tweetlid_lang'],\n",
    "                **{\n",
    "                    lang: 0 for lang in labels\n",
    "                },\n",
    "                **{\n",
    "                    lang: 1 #/ len(re.split('[/]|[+]', t['tweetlid_lang']))\n",
    "                    for lang in re.split('[/]|[+]', t['tweetlid_lang'])\n",
    "                }\n",
    "            }\n",
    "            for t in data\n",
    "        ]\n",
    "\n",
    "    data = pd.DataFrame.from_records(data, index='id')\n",
    "\n",
    "    return data[['text', 'text_without_entities']], data[labels]"
   ]
  },
  {
   "cell_type": "code",
   "execution_count": 7,
   "metadata": {},
   "outputs": [],
   "source": [
    "class TweetCleanup(BaseEstimator, TransformerMixin):\n",
    "    def __init__(self, keep_entities=True):\n",
    "        self.keep_entities = keep_entities\n",
    "\n",
    "    def fit(self, X, y=None):\n",
    "        return self\n",
    "    \n",
    "    def transform(self, X):\n",
    "        if self.keep_entities:\n",
    "            return X['text'].values\n",
    "        else:\n",
    "            return X['text_without_entities'].values"
   ]
  },
  {
   "cell_type": "code",
   "execution_count": 8,
   "metadata": {},
   "outputs": [],
   "source": [
    "class TweetTransformer(BaseEstimator, TransformerMixin):\n",
    "    def __init__(self, case=None,normal_form=None):\n",
    "        self.case = case\n",
    "        self.normal_form = normal_form\n",
    "\n",
    "    def fit(self, X, y=None):\n",
    "        return self\n",
    "        \n",
    "    def transform(self, X):\n",
    "        if self.case == 'lowercase':\n",
    "            X = map(str.lower, X)\n",
    "        \n",
    "        if self.normal_form is not None:\n",
    "            X = map(lambda text: unicodedata.normalize(self.normal_form, text), X)\n",
    "            \n",
    "        return list(X)"
   ]
  },
  {
   "cell_type": "code",
   "execution_count": 23,
   "metadata": {},
   "outputs": [],
   "source": [
    "class TweetClassifier(BaseEstimator, TransformerMixin, ClassifierMixin):\n",
    "    def __init__(\n",
    "        self,\n",
    "        analyzer='char', ngram_range=(2, 2), min_df=1, max_df=1.0,\n",
    "        optimizer='rmsprop', activation='relu', epochs=20, batch_size=32,\n",
    "        verbose=0,\n",
    "    ):\n",
    "        self.analyzer = analyzer\n",
    "        self.ngram_range = ngram_range\n",
    "        self.min_df = min_df\n",
    "        self.max_df = max_df\n",
    "\n",
    "        self.vect = CountVectorizer(\n",
    "            analyzer=analyzer,\n",
    "            ngram_range=ngram_range,\n",
    "            lowercase=False,\n",
    "            min_df=min_df,\n",
    "            max_df=max_df,\n",
    "        )\n",
    "        \n",
    "        self.optimizer = optimizer\n",
    "        self.activation = activation\n",
    "        self.epochs = epochs\n",
    "        self.batch_size = batch_size\n",
    "        self.verbose = verbose\n",
    "        \n",
    "    def fit(self, X, y=None):\n",
    "        X = self.vect.fit_transform(X)\n",
    "        \n",
    "        self.input_dim = X.shape[1]\n",
    "        self.classifier = KerasClassifier(self.create_model)\n",
    "        \n",
    "        self.classifier.fit(\n",
    "            X, y,\n",
    "            epochs=self.epochs, batch_size=self.batch_size,\n",
    "            verbose=self.verbose,\n",
    "        )\n",
    "        \n",
    "        return self\n",
    "        \n",
    "    def transform(self, X):\n",
    "        return self.classifier.transform(self.vect.transform(X))\n",
    "    \n",
    "    def predict(self, X):\n",
    "        return self.classifier.predict(self.vect.transform(X))\n",
    "\n",
    "    def predict_proba(self, X):\n",
    "        return self.classifier.predict_proba(self.vect.transform(X))\n",
    "\n",
    "    def create_model(self):\n",
    "        model = Sequential()\n",
    "        model.add(Dense(32, input_dim=self.input_dim))\n",
    "        model.add(Activation(self.activation))\n",
    "        model.add(Dense(8))\n",
    "        model.add(Activation('softmax'))\n",
    "\n",
    "        model.compile(\n",
    "            optimizer=self.optimizer,\n",
    "            loss='categorical_crossentropy',\n",
    "            metrics=['accuracy'],\n",
    "        )\n",
    "\n",
    "        return model"
   ]
  },
  {
   "cell_type": "code",
   "execution_count": 24,
   "metadata": {},
   "outputs": [],
   "source": [
    "pipe = pipeline.Pipeline(\n",
    "    [\n",
    "        ('cleanup', TweetCleanup()),\n",
    "        ('transformer', TweetTransformer()),\n",
    "        ('nn', TweetClassifier()),\n",
    "    ]\n",
    ")"
   ]
  },
  {
   "cell_type": "code",
   "execution_count": 25,
   "metadata": {},
   "outputs": [],
   "source": [
    "param_grid = {\n",
    "    'cleanup__keep_entities': [True, False],\n",
    "    \n",
    "    'transformer__case': [None, 'lowercase',],\n",
    "#     'transformer__normal_form': [None, 'NFD', 'NFC'],\n",
    "    \n",
    "    'nn__ngram_range': [\n",
    "        (2, 2),\n",
    "#         (3, 3),\n",
    "    ],\n",
    "    'nn__min_df': [1],\n",
    "    'nn__max_df': [1.0],\n",
    "    'nn__optimizer': ['rmsprop', 'adam'],\n",
    "    'nn__activation': [\n",
    "        'relu',\n",
    "        'sigmoid',\n",
    "    ],\n",
    "    'nn__epochs': [\n",
    "        2,\n",
    "#         5,\n",
    "#         10,\n",
    "#         20,\n",
    "    ],\n",
    "    'nn__batch_size': [\n",
    "        32,\n",
    "#         64,\n",
    "#         128,\n",
    "    ],\n",
    "}"
   ]
  },
  {
   "cell_type": "code",
   "execution_count": 26,
   "metadata": {},
   "outputs": [],
   "source": [
    "train, y_train = read_tweetlid_json('TweetLID_corpusV2/tweetlid-training-tweets.json')"
   ]
  },
  {
   "cell_type": "code",
   "execution_count": 27,
   "metadata": {},
   "outputs": [],
   "source": [
    "grid = model_selection.GridSearchCV(\n",
    "    pipe, cv=3, param_grid=param_grid,\n",
    "    scoring='accuracy',\n",
    "    n_jobs=-1,\n",
    "    verbose=True,\n",
    ")"
   ]
  },
  {
   "cell_type": "code",
   "execution_count": null,
   "metadata": {},
   "outputs": [
    {
     "name": "stdout",
     "output_type": "stream",
     "text": [
      "Fitting 3 folds for each of 16 candidates, totalling 48 fits\n"
     ]
    }
   ],
   "source": [
    "grid.fit(train, y_train.values.argmax(axis=1));"
   ]
  },
  {
   "cell_type": "code",
   "execution_count": null,
   "metadata": {},
   "outputs": [],
   "source": []
  },
  {
   "cell_type": "code",
   "execution_count": null,
   "metadata": {},
   "outputs": [],
   "source": []
  },
  {
   "cell_type": "code",
   "execution_count": 20,
   "metadata": {},
   "outputs": [
    {
     "data": {
      "text/plain": [
       "{'nn__activation': 'relu',\n",
       " 'nn__batch_size': 32,\n",
       " 'nn__epochs': 2,\n",
       " 'nn__max_df': 1.0,\n",
       " 'nn__min_df': 1,\n",
       " 'nn__ngram_range': (2, 2),\n",
       " 'nn__optimizer': 'rmsprop'}"
      ]
     },
     "execution_count": 20,
     "metadata": {},
     "output_type": "execute_result"
    }
   ],
   "source": [
    "grid.best_params_"
   ]
  },
  {
   "cell_type": "code",
   "execution_count": null,
   "metadata": {},
   "outputs": [],
   "source": []
  },
  {
   "cell_type": "code",
   "execution_count": null,
   "metadata": {},
   "outputs": [],
   "source": []
  },
  {
   "cell_type": "code",
   "execution_count": 15,
   "metadata": {},
   "outputs": [],
   "source": [
    "test, y_test = read_tweetlid_json('TweetLID_corpusV2/tweetlid-test-tweets.json')"
   ]
  },
  {
   "cell_type": "code",
   "execution_count": 16,
   "metadata": {},
   "outputs": [],
   "source": [
    "y_test_estimate = grid.best_estimator_.predict_proba(test) > 0.3"
   ]
  },
  {
   "cell_type": "code",
   "execution_count": 17,
   "metadata": {},
   "outputs": [],
   "source": [
    "run = pd.DataFrame(y_test_estimate, index=test.index, columns=y_test.columns)\n",
    "run_output = run.apply(lambda r: '+'.join(r.index[r > 0.3]), axis='columns')\n",
    "run_output.to_csv('run_output.tsv', sep='\\t')"
   ]
  },
  {
   "cell_type": "code",
   "execution_count": null,
   "metadata": {},
   "outputs": [],
   "source": []
  },
  {
   "cell_type": "code",
   "execution_count": 18,
   "metadata": {},
   "outputs": [],
   "source": [
    "# !perl TweetLID_corpusV2/tweetLID_eval.pl \\\n",
    "# -r TweetLID_corpusV2/tweetlid-test-tweets.tsv \\\n",
    "# -d run_output.tsv \\\n",
    "# 2> /dev/null"
   ]
  },
  {
   "cell_type": "code",
   "execution_count": 19,
   "metadata": {},
   "outputs": [
    {
     "name": "stdout",
     "output_type": "stream",
     "text": [
      "\n",
      " RESULTS ONLY taking into account SUBMITTED RESULTS IN THE REFERENCE: \n",
      "Category pt : P => 0.809480401093892 , R => 0.901522842639594 , F => 0.853025936599424 \n",
      "Category en : P => 0.73209549071618 , R => 0.756855575868373 , F => 0.744269662921348 \n",
      "Category amb : P => 1 , R => 0.907692307692308 , F => 0.951612903225806 \n",
      "Category gl : P => 0.548780487804878 , R => 0.415704387990762 , F => 0.473061760840999 \n",
      "Category und : P => 0.904761904761905 , R => 0.0402542372881356 , F => 0.077079107505071 \n",
      "Category eu : P => 0.898507462686567 , R => 0.654347826086957 , F => 0.757232704402516 \n",
      "Category ca : P => 0.705723542116631 , R => 0.859303090072321 , F => 0.774977764601245 \n",
      "Category es : P => 0.881475310511966 , R => 0.961582947785856 , F => 0.919788209261893 \n",
      "\n",
      "Global results : P => 0.810103074961502 , R => 0.687157901928038 , F => 0.693881006169788 \n",
      "\n",
      "Submitted run contains => 19993 tweets. From those 18423 are in the reference. \n",
      "Provided reference has => 18423 tweets. From those 0 tweets were left unanswered. \n",
      "\n",
      " RESULTS taking into account ALL TWEETS in the reference (unanswered tweets affect Recall and Fscore negatively) \n",
      "Category pt : P => 0.809480401093892 , R => 0.901522842639594 , F => 0.853025936599424 \n",
      "Category en : P => 0.73209549071618 , R => 0.756855575868373 , F => 0.744269662921348 \n",
      "Category amb : P => 1 , R => 0.907692307692308 , F => 0.951612903225806 \n",
      "Category gl : P => 0.548780487804878 , R => 0.415704387990762 , F => 0.473061760840999 \n",
      "Category und : P => 0.904761904761905 , R => 0.0402542372881356 , F => 0.077079107505071 \n",
      "Category eu : P => 0.898507462686567 , R => 0.654347826086957 , F => 0.757232704402516 \n",
      "Category ca : P => 0.705723542116631 , R => 0.859303090072321 , F => 0.774977764601245 \n",
      "Category es : P => 0.881475310511966 , R => 0.961582947785856 , F => 0.919788209261893 \n",
      "\n",
      "Global results : P => 0.810103074961502 , R => 0.687157901928038 , F => 0.693881006169788 \n"
     ]
    }
   ],
   "source": [
    "!perl TweetLID_corpusV2/tweetLID_eval.pl \\\n",
    "-r TweetLID_corpusV2/tweetLID-testOfficial-7july.tsv \\\n",
    "-d run_output.tsv \\\n",
    "2> /dev/null"
   ]
  },
  {
   "cell_type": "code",
   "execution_count": null,
   "metadata": {},
   "outputs": [],
   "source": []
  },
  {
   "cell_type": "code",
   "execution_count": null,
   "metadata": {},
   "outputs": [],
   "source": []
  },
  {
   "cell_type": "code",
   "execution_count": null,
   "metadata": {},
   "outputs": [],
   "source": []
  },
  {
   "cell_type": "code",
   "execution_count": null,
   "metadata": {},
   "outputs": [],
   "source": []
  },
  {
   "cell_type": "code",
   "execution_count": null,
   "metadata": {},
   "outputs": [],
   "source": []
  },
  {
   "cell_type": "code",
   "execution_count": null,
   "metadata": {},
   "outputs": [],
   "source": []
  },
  {
   "cell_type": "code",
   "execution_count": null,
   "metadata": {},
   "outputs": [],
   "source": []
  },
  {
   "cell_type": "code",
   "execution_count": null,
   "metadata": {},
   "outputs": [],
   "source": []
  },
  {
   "cell_type": "code",
   "execution_count": null,
   "metadata": {},
   "outputs": [],
   "source": []
  },
  {
   "cell_type": "code",
   "execution_count": null,
   "metadata": {},
   "outputs": [],
   "source": []
  },
  {
   "cell_type": "code",
   "execution_count": null,
   "metadata": {},
   "outputs": [],
   "source": []
  },
  {
   "cell_type": "code",
   "execution_count": null,
   "metadata": {},
   "outputs": [],
   "source": []
  },
  {
   "cell_type": "code",
   "execution_count": null,
   "metadata": {},
   "outputs": [],
   "source": []
  },
  {
   "cell_type": "code",
   "execution_count": null,
   "metadata": {},
   "outputs": [],
   "source": []
  },
  {
   "cell_type": "code",
   "execution_count": null,
   "metadata": {},
   "outputs": [],
   "source": []
  },
  {
   "cell_type": "code",
   "execution_count": null,
   "metadata": {},
   "outputs": [],
   "source": []
  },
  {
   "cell_type": "code",
   "execution_count": null,
   "metadata": {},
   "outputs": [],
   "source": []
  }
 ],
 "metadata": {
  "kernelspec": {
   "display_name": "Python 3",
   "language": "python",
   "name": "python3"
  },
  "language_info": {
   "codemirror_mode": {
    "name": "ipython",
    "version": 3
   },
   "file_extension": ".py",
   "mimetype": "text/x-python",
   "name": "python",
   "nbconvert_exporter": "python",
   "pygments_lexer": "ipython3",
   "version": "3.6.5"
  }
 },
 "nbformat": 4,
 "nbformat_minor": 2
}
