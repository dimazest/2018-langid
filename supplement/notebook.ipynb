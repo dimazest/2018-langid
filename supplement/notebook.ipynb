{
 "cells": [
  {
   "cell_type": "code",
   "execution_count": 1,
   "metadata": {},
   "outputs": [],
   "source": [
    "%matplotlib inline"
   ]
  },
  {
   "cell_type": "code",
   "execution_count": 2,
   "metadata": {},
   "outputs": [],
   "source": [
    "import json\n",
    "import re\n",
    "import unicodedata\n",
    "import itertools\n",
    "import collections"
   ]
  },
  {
   "cell_type": "code",
   "execution_count": 3,
   "metadata": {},
   "outputs": [],
   "source": [
    "import pandas as pd\n",
    "import seaborn as sns\n",
    "import numpy as np"
   ]
  },
  {
   "cell_type": "code",
   "execution_count": 20,
   "metadata": {},
   "outputs": [
    {
     "name": "stderr",
     "output_type": "stream",
     "text": [
      "Using Theano backend.\n"
     ]
    }
   ],
   "source": [
    "from keras.models import Sequential\n",
    "from keras.layers import Dense, Activation"
   ]
  },
  {
   "cell_type": "code",
   "execution_count": 4,
   "metadata": {},
   "outputs": [],
   "source": [
    "def text_without_entities(tweet_json):\n",
    "    '''\n",
    "    The text of the tweet without entities (hashtags, ursl and\n",
    "    user mentions).\n",
    "    '''\n",
    "    entities = tweet_json['entities'].values()\n",
    "    indicies = list(itertools.chain.from_iterable((e['indices'] for e in es) for es in entities))\n",
    "\n",
    "    text = list(tweet_json['text'])\n",
    "    for start, end in indicies:\n",
    "        length = end - start\n",
    "        text[start:end] = [None] * length\n",
    "\n",
    "    return ''.join(filter(None, text))"
   ]
  },
  {
   "cell_type": "code",
   "execution_count": 7,
   "metadata": {},
   "outputs": [],
   "source": [
    "def read_data(f_name):\n",
    "    with open(f_name) as f:\n",
    "        data = map(json.loads, f)\n",
    "        data = [\n",
    "            {\n",
    "                'id': t['id'],\n",
    "                'text': t['text'],\n",
    "                'text_without_entities': text_without_entities(t),\n",
    "                'tweetlid_lang': t['tweetlid_lang'],\n",
    "                **{\n",
    "                    lang: 0 for lang in ['ca', 'en', 'es', 'eu', 'gl', 'pt', 'und', 'other']\n",
    "                },\n",
    "                **{\n",
    "                    lang: 1 / len(re.split('[/]|[+]', t['tweetlid_lang']))\n",
    "                    for lang in re.split('[/]|[+]', t['tweetlid_lang'])\n",
    "                }\n",
    "            }\n",
    "            for t in data\n",
    "        ]\n",
    "        \n",
    "    data = pd.DataFrame.from_records(data, index='id')\n",
    "\n",
    "    input_ = data[['text', 'text_without_entities']]\n",
    "    labels = data[['ca', 'en', 'es', 'eu', 'gl', 'pt', 'und', 'other']]\n",
    "\n",
    "    def postprocess(text):\n",
    "        return pd.Series(\n",
    "            {\n",
    "                'raw': text,\n",
    "                'NFD': unicodedata.normalize('NFD', text),\n",
    "                'NFC': unicodedata.normalize('NFC', text),\n",
    "            }\n",
    "        )\n",
    "        \n",
    "    input_ = pd.concat(\n",
    "        [\n",
    "            input_['text'].apply(postprocess),\n",
    "            input_['text_without_entities'].apply(postprocess),\n",
    "        ],\n",
    "        keys=['none', 'without_entities',],\n",
    "        names=['cleanup', 'tweet_id'],\n",
    "    ).unstack('cleanup')\n",
    "    \n",
    "    return input_, labels"
   ]
  },
  {
   "cell_type": "code",
   "execution_count": 11,
   "metadata": {},
   "outputs": [],
   "source": [
    "def ngrams(text, length=2):\n",
    "    text = list(text) + ['']\n",
    "    current = collections.deque(text[:length], maxlen=length)\n",
    "    \n",
    "    for c in text[length:]:\n",
    "        yield ''.join((current))\n",
    "        current.append(c)"
   ]
  },
  {
   "cell_type": "code",
   "execution_count": 12,
   "metadata": {},
   "outputs": [],
   "source": [
    "def vocabulary(items):\n",
    "    items = list(items)\n",
    "    counts = pd.Series(items).value_counts()\n",
    "    counts = counts.to_frame('count')\n",
    "    counts['id'] = list(range(len(counts)))\n",
    "    \n",
    "    return counts"
   ]
  },
  {
   "cell_type": "code",
   "execution_count": 16,
   "metadata": {},
   "outputs": [],
   "source": [
    "def extract_features(t, vocab=None):\n",
    "    build_vocab = vocab is None\n",
    "    if build_vocab:\n",
    "        vocab = vocabulary(itertools.chain.from_iterable(map(ngrams, t)))\n",
    "        \n",
    "    n_features = len(vocab)\n",
    "    X = np.zeros((len(t), n_features))\n",
    "\n",
    "    for i, text in enumerate(t):\n",
    "        counts = pd.Series(ngrams(text)).value_counts()\n",
    "        \n",
    "        if not build_vocab:\n",
    "            counts = counts.loc[vocab.index.intersection(counts.index)]\n",
    "        \n",
    "        ids = vocab.loc[counts.index, 'id']    \n",
    "        X[i, ids] = counts\n",
    "        \n",
    "    return vocab, X"
   ]
  },
  {
   "cell_type": "code",
   "execution_count": 10,
   "metadata": {},
   "outputs": [],
   "source": [
    "train, train_labels = read_data('TweetLID_corpusV2/tweetlid-training-tweets.json')"
   ]
  },
  {
   "cell_type": "code",
   "execution_count": 13,
   "metadata": {},
   "outputs": [],
   "source": [
    "local_train = train.sample(frac=0.80)"
   ]
  },
  {
   "cell_type": "code",
   "execution_count": 14,
   "metadata": {},
   "outputs": [],
   "source": [
    "dev = train.loc[~train.index.isin(local_train.index)]"
   ]
  },
  {
   "cell_type": "code",
   "execution_count": 15,
   "metadata": {},
   "outputs": [],
   "source": [
    "assert len(train) == len(local_train) + len(dev)"
   ]
  },
  {
   "cell_type": "code",
   "execution_count": null,
   "metadata": {},
   "outputs": [],
   "source": []
  },
  {
   "cell_type": "code",
   "execution_count": 17,
   "metadata": {},
   "outputs": [],
   "source": [
    "vocab, X_train = extract_features(local_train['raw', 'none'])"
   ]
  },
  {
   "cell_type": "code",
   "execution_count": 18,
   "metadata": {},
   "outputs": [],
   "source": [
    "y_train = train_labels.loc[local_train.index]"
   ]
  },
  {
   "cell_type": "code",
   "execution_count": null,
   "metadata": {},
   "outputs": [],
   "source": []
  },
  {
   "cell_type": "code",
   "execution_count": 51,
   "metadata": {},
   "outputs": [],
   "source": [
    "_, X_dev = extract_features(dev['raw', 'none'], vocab=vocab)"
   ]
  },
  {
   "cell_type": "code",
   "execution_count": 52,
   "metadata": {},
   "outputs": [],
   "source": [
    "y_dev = train_labels.loc[dev.index]"
   ]
  },
  {
   "cell_type": "code",
   "execution_count": null,
   "metadata": {},
   "outputs": [],
   "source": []
  },
  {
   "cell_type": "code",
   "execution_count": 53,
   "metadata": {},
   "outputs": [],
   "source": [
    "test, y_test = read_data('TweetLID_corpusV2/tweetlid-test-tweets.json')"
   ]
  },
  {
   "cell_type": "code",
   "execution_count": 54,
   "metadata": {},
   "outputs": [
    {
     "name": "stderr",
     "output_type": "stream",
     "text": [
      "/Users/dimazest/miniconda3/lib/python3.6/site-packages/ipykernel_launcher.py:16: VisibleDeprecationWarning: using a non-integer number instead of an integer will result in an error in the future\n",
      "  app.launch_new_instance()\n",
      "/Users/dimazest/miniconda3/lib/python3.6/site-packages/ipykernel_launcher.py:16: VisibleDeprecationWarning: using a non-integer number instead of an integer will result in an error in the future\n",
      "  app.launch_new_instance()\n"
     ]
    }
   ],
   "source": [
    "_, X_test = extract_features(test['raw', 'none'], vocab=vocab)"
   ]
  },
  {
   "cell_type": "code",
   "execution_count": 43,
   "metadata": {},
   "outputs": [],
   "source": []
  },
  {
   "cell_type": "code",
   "execution_count": 26,
   "metadata": {},
   "outputs": [],
   "source": [
    "model = Sequential()\n",
    "model.add(Dense(32, input_dim=X_train.shape[1]))\n",
    "model.add(Activation('relu'))\n",
    "model.add(Dense(8))\n",
    "model.add(Activation('softmax'))"
   ]
  },
  {
   "cell_type": "code",
   "execution_count": 27,
   "metadata": {},
   "outputs": [],
   "source": [
    "model.compile(\n",
    "    optimizer='rmsprop',\n",
    "    loss='categorical_crossentropy',\n",
    "    metrics=['accuracy'],\n",
    ")"
   ]
  },
  {
   "cell_type": "code",
   "execution_count": 29,
   "metadata": {},
   "outputs": [
    {
     "name": "stdout",
     "output_type": "stream",
     "text": [
      "Epoch 1/10\n",
      "11993/11993 [==============================] - 3s 217us/step - loss: 0.7108 - acc: 0.8001\n",
      "Epoch 2/10\n",
      "11993/11993 [==============================] - 2s 168us/step - loss: 0.4255 - acc: 0.8768\n",
      "Epoch 3/10\n",
      "11993/11993 [==============================] - 2s 177us/step - loss: 0.3605 - acc: 0.8944\n",
      "Epoch 4/10\n",
      "11993/11993 [==============================] - 2s 181us/step - loss: 0.3199 - acc: 0.9051\n",
      "Epoch 5/10\n",
      "11993/11993 [==============================] - 2s 191us/step - loss: 0.2903 - acc: 0.9133\n",
      "Epoch 6/10\n",
      "11993/11993 [==============================] - 2s 204us/step - loss: 0.2648 - acc: 0.9195\n",
      "Epoch 7/10\n",
      "11993/11993 [==============================] - 2s 203us/step - loss: 0.2448 - acc: 0.9245\n",
      "Epoch 8/10\n",
      "11993/11993 [==============================] - 2s 203us/step - loss: 0.2256 - acc: 0.9288\n",
      "Epoch 9/10\n",
      "11993/11993 [==============================] - 2s 205us/step - loss: 0.2101 - acc: 0.9333\n",
      "Epoch 10/10\n",
      "11993/11993 [==============================] - 3s 218us/step - loss: 0.1958 - acc: 0.9360\n"
     ]
    },
    {
     "data": {
      "text/plain": [
       "<keras.callbacks.History at 0x11adfa208>"
      ]
     },
     "execution_count": 29,
     "metadata": {},
     "output_type": "execute_result"
    }
   ],
   "source": [
    "model.fit(X_train, y_train, epochs=10, batch_size=32)"
   ]
  },
  {
   "cell_type": "code",
   "execution_count": 31,
   "metadata": {},
   "outputs": [
    {
     "name": "stdout",
     "output_type": "stream",
     "text": [
      "11993/11993 [==============================] - 1s 60us/step\n"
     ]
    },
    {
     "data": {
      "text/plain": [
       "[0.16657257468479941, 0.94538480800335079]"
      ]
     },
     "execution_count": 31,
     "metadata": {},
     "output_type": "execute_result"
    }
   ],
   "source": [
    "score = model.evaluate(X_train, y_train, batch_size=128)\n",
    "score"
   ]
  },
  {
   "cell_type": "code",
   "execution_count": 55,
   "metadata": {},
   "outputs": [
    {
     "name": "stdout",
     "output_type": "stream",
     "text": [
      "2998/2998 [==============================] - 0s 106us/step\n"
     ]
    },
    {
     "data": {
      "text/plain": [
       "[0.52916348294626481, 0.85957304861960693]"
      ]
     },
     "execution_count": 55,
     "metadata": {},
     "output_type": "execute_result"
    }
   ],
   "source": [
    "score = model.evaluate(X_dev, y_dev, batch_size=128)\n",
    "score"
   ]
  },
  {
   "cell_type": "code",
   "execution_count": 56,
   "metadata": {},
   "outputs": [
    {
     "name": "stdout",
     "output_type": "stream",
     "text": [
      "19993/19993 [==============================] - 2s 102us/step\n"
     ]
    },
    {
     "data": {
      "text/plain": [
       "[0.79870648619361606, 0.84689641374481073]"
      ]
     },
     "execution_count": 56,
     "metadata": {},
     "output_type": "execute_result"
    }
   ],
   "source": [
    "score = model.evaluate(X_test, y_test.values, batch_size=128)\n",
    "score"
   ]
  },
  {
   "cell_type": "code",
   "execution_count": null,
   "metadata": {},
   "outputs": [],
   "source": []
  },
  {
   "cell_type": "code",
   "execution_count": 60,
   "metadata": {},
   "outputs": [],
   "source": [
    "y_test_estimate = model.predict(X_test)"
   ]
  },
  {
   "cell_type": "code",
   "execution_count": 69,
   "metadata": {},
   "outputs": [],
   "source": [
    "run_output = pd.DataFrame(y_test_estimate, index=test.index, columns=y_test.columns).idxmax(axis=1)"
   ]
  },
  {
   "cell_type": "code",
   "execution_count": 73,
   "metadata": {},
   "outputs": [],
   "source": [
    "run_output.to_csv('run_output.tsv', sep='\\t')"
   ]
  },
  {
   "cell_type": "code",
   "execution_count": 75,
   "metadata": {},
   "outputs": [
    {
     "name": "stdout",
     "output_type": "stream",
     "text": [
      "\n",
      "Gold standard reference file: TweetLID_corpusV2/tweetlid-test-tweets.tsv \n",
      "Provided run file: run_output.tsv \n",
      "\n",
      "\n",
      " RESULTS ONLY taking into account SUBMITTED RESULTS IN THE REFERENCE: \n",
      "Category en : P => 0.733210671573137 , R => 0.68412017167382 , F => 0.707815275310835 \n",
      "Category amb : P => 1 , R => 0.874551971326165 , F => 0.933078393881453 \n",
      "Category eu : P => 0.821510297482838 , R => 0.746361746361746 , F => 0.782135076252723 \n",
      "Category ca : P => 0.734469488730071 , R => 0.845034788108792 , F => 0.785882352941176 \n",
      "Category gl : P => 0.436724565756824 , R => 0.377682403433476 , F => 0.405063291139241 \n",
      "Category pt : P => 0.862238074008025 , R => 0.879090909090909 , F => 0.870582939455323 \n",
      "Category und : P => 0.598958333333333 , R => 0.11252446183953 , F => 0.189456342668863 \n",
      "Category ind : P =>  , R => 0 , F => 0 \n",
      "Category es : P => 0.909271816037736 , R => 0.936039453717754 , F => 0.922461492448034 \n",
      "\n",
      "Global results : P => 0.677375916324663 , R => 0.606156211728021 , F => 0.621830573788627 \n",
      "\n",
      "Submitted run contains => 19993 tweets. From those 19993 are in the reference. \n",
      "Provided reference has => 19993 tweets. From those 0 tweets were left unanswered. \n",
      "Global category stats computation : no tweet for this category  \n",
      "\n",
      " RESULTS taking into account ALL TWEETS in the reference (unanswered tweets affect Recall and Fscore negatively) \n",
      "Category en : P => 0.733210671573137 , R => 0.68412017167382 , F => 0.707815275310835 \n",
      "Category amb : P => 1 , R => 0.874551971326165 , F => 0.933078393881453 \n",
      "Category eu : P => 0.821510297482838 , R => 0.746361746361746 , F => 0.782135076252723 \n",
      "Category ca : P => 0.734469488730071 , R => 0.845034788108792 , F => 0.785882352941176 \n",
      "Category gl : P => 0.436724565756824 , R => 0.377682403433476 , F => 0.405063291139241 \n",
      "Category pt : P => 0.862238074008025 , R => 0.879090909090909 , F => 0.870582939455323 \n",
      "Category und : P => 0.598958333333333 , R => 0.11252446183953 , F => 0.189456342668863 \n",
      "Category ind : P =>  , R => 0 , F => 0 \n",
      "Category es : P => 0.909271816037736 , R => 0.936039453717754 , F => 0.922461492448034 \n",
      "\n",
      "Global results : P => 0.677375916324663 , R => 0.606156211728022 , F => 0.621830573788627 \n"
     ]
    }
   ],
   "source": [
    "!perl TweetLID_corpusV2/tweetLID_eval.pl \\\n",
    "-r TweetLID_corpusV2/tweetlid-test-tweets.tsv \\\n",
    "-d run_output.tsv"
   ]
  },
  {
   "cell_type": "code",
   "execution_count": 77,
   "metadata": {},
   "outputs": [
    {
     "name": "stdout",
     "output_type": "stream",
     "text": [
      "\n",
      " RESULTS ONLY taking into account SUBMITTED RESULTS IN THE REFERENCE: \n",
      "Category und : P => 0.601123595505618 , R => 0.113347457627119 , F => 0.190730837789661 \n",
      "Category gl : P => 0.44 , R => 0.381062355658199 , F => 0.408415841584158 \n",
      "Category eu : P => 0.832116788321168 , R => 0.743478260869565 , F => 0.785304247990815 \n",
      "Category es : P => 0.90804690009637 , R => 0.934231182351483 , F => 0.920952962736713 \n",
      "Category ca : P => 0.738904899135447 , R => 0.842866535174227 , F => 0.787469287469287 \n",
      "Category en : P => 0.734892787524366 , R => 0.688584474885845 , F => 0.710985384252711 \n",
      "Category amb : P => 1 , R => 0.880769230769231 , F => 0.936605316973415 \n",
      "Category pt : P => 0.860684184432325 , R => 0.881218274111675 , F => 0.870830198143968 \n",
      "\n",
      "Global results : P => 0.764471144376912 , R => 0.683194721430918 , F => 0.701411759617591 \n",
      "\n",
      "Submitted run contains => 19993 tweets. From those 18423 are in the reference. \n",
      "Provided reference has => 18423 tweets. From those 0 tweets were left unanswered. \n",
      "\n",
      " RESULTS taking into account ALL TWEETS in the reference (unanswered tweets affect Recall and Fscore negatively) \n",
      "Category und : P => 0.601123595505618 , R => 0.113347457627119 , F => 0.190730837789661 \n",
      "Category gl : P => 0.44 , R => 0.381062355658199 , F => 0.408415841584158 \n",
      "Category eu : P => 0.832116788321168 , R => 0.743478260869565 , F => 0.785304247990815 \n",
      "Category es : P => 0.90804690009637 , R => 0.934231182351483 , F => 0.920952962736713 \n",
      "Category ca : P => 0.738904899135447 , R => 0.842866535174227 , F => 0.787469287469287 \n",
      "Category en : P => 0.734892787524366 , R => 0.688584474885845 , F => 0.710985384252711 \n",
      "Category amb : P => 1 , R => 0.880769230769231 , F => 0.936605316973415 \n",
      "Category pt : P => 0.860684184432325 , R => 0.881218274111675 , F => 0.870830198143968 \n",
      "\n",
      "Global results : P => 0.764471144376912 , R => 0.683194721430918 , F => 0.701411759617591 \n"
     ]
    }
   ],
   "source": [
    "!perl TweetLID_corpusV2/tweetLID_eval.pl \\\n",
    "-r TweetLID_corpusV2/tweetLID-testOfficial-7july.tsv \\\n",
    "-d run_output.tsv \\\n",
    "2> /dev/null"
   ]
  }
 ],
 "metadata": {
  "kernelspec": {
   "display_name": "Python 3",
   "language": "python",
   "name": "python3"
  },
  "language_info": {
   "codemirror_mode": {
    "name": "ipython",
    "version": 3
   },
   "file_extension": ".py",
   "mimetype": "text/x-python",
   "name": "python",
   "nbconvert_exporter": "python",
   "pygments_lexer": "ipython3",
   "version": "3.6.5"
  }
 },
 "nbformat": 4,
 "nbformat_minor": 2
}
